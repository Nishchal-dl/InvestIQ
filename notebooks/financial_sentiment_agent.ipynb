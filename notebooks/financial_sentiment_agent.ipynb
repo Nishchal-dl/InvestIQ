{
 "cells": [
  {
   "cell_type": "code",
   "execution_count": 19,
   "id": "bb18c52a",
   "metadata": {},
   "outputs": [
    {
     "data": {
      "text/plain": [
       "True"
      ]
     },
     "execution_count": 19,
     "metadata": {},
     "output_type": "execute_result"
    }
   ],
   "source": [
    "from dotenv import load_dotenv\n",
    "from typing import Dict, Any, List\n",
    "import yfinance as yf\n",
    "load_dotenv() "
   ]
  },
  {
   "cell_type": "markdown",
   "id": "d7ad2d17",
   "metadata": {},
   "source": [
    "### Tools to fetch using NewsAPI and yfinance"
   ]
  },
  {
   "cell_type": "code",
   "execution_count": 20,
   "id": "7a847fed",
   "metadata": {},
   "outputs": [],
   "source": [
    "def get_stock_data(ticker: str) -> Dict[str, Any]:\n",
    "    \"\"\"Fetches key financial data for a\n",
    "      given stock ticker using yfinance.\n",
    "    \n",
    "    Args:\n",
    "        ticker (str): The stock ticker\n",
    "      symbol (e.g., \"AAPL\", \"MSFT\").\n",
    "    \n",
    "    Returns:\n",
    "        Dict[str, Any]: A dictionary\n",
    "      containing selected stock information,\n",
    "      or an error message if the ticker is invalid.\n",
    "    \"\"\"\n",
    "    try:\n",
    "        stock = yf.Ticker(ticker)\n",
    "        info = stock.info\n",
    "\n",
    "        if not info:\n",
    "            return {\"error\": f\"Could not retrieve data for ticker: {ticker}. It might be invalid.\"}\n",
    "\n",
    "        # Extract relevant information\n",
    "        data = {\n",
    "            \"ticker\": ticker,\n",
    "            \"shortName\": info.get(\"shortName\", \"N/A\"),\n",
    "            \"currentPrice\": info.get(\"currentPrice\", \"N/A\"),\n",
    "            \"previousClose\": info.get(\"previousClose\", \"N/A\"),\n",
    "            \"open\": info.get(\"open\", \"N/A\"),\n",
    "            \"dayHigh\": info.get(\"dayHigh\", \"N/A\"),\n",
    "            \"dayLow\": info.get(\"dayLow\", \"N/A\"),\n",
    "            \"volume\": info.get(\"volume\", \"N/A\"),\n",
    "            \"marketCap\": info.get(\"marketCap\", \"N/A\"),\n",
    "            \"currency\": info.get(\"currency\", \"N/A\"),\n",
    "            \"exchange\": info.get(\"exchange\", \"N/A\"),\n",
    "            \"sector\": info.get(\"sector\", \"N/A\"),\n",
    "            \"industry\": info.get(\"industry\", \"N/A\"),\n",
    "            \"longBusinessSummary\": info.get(\"longBusinessSummary\", \"N/A\")\n",
    "        }\n",
    "        return data\n",
    "    except Exception as e:\n",
    "        return {\"error\": f\"An unexpected error occurred while fetching data for {ticker}: {e}\"}\n",
    "\n",
    "\n",
    "def get_news_articles(query: str) -> List[Dict]:\n",
    "    \"\"\"Fetch news articles based on query or ticker symbol.\n",
    "    \n",
    "    Args:\n",
    "        query: Search keywords or phrases (str)\n",
    "            \n",
    "    Returns:\n",
    "        List of news articles with title, description, url, etc.\n",
    "    \"\"\"\n",
    "    try:\n",
    "        from newsapi import NewsApiClient\n",
    "        import os\n",
    "        \n",
    "        newsapi = NewsApiClient(api_key=os.getenv(\"NEWS_API_KEY\"))\n",
    "        response = newsapi.get_everything(\n",
    "            q=query,\n",
    "            language=\"en\",\n",
    "            sort_by=\"publishedAt\",\n",
    "            page_size=10\n",
    "        )\n",
    "        return response.get(\"articles\", [])\n",
    "    except Exception as e:\n",
    "        return {\"error\": f\"Failed to fetch news: {str(e)}\"}"
   ]
  },
  {
   "cell_type": "markdown",
   "id": "517c61c9",
   "metadata": {},
   "source": [
    "### Creating tool"
   ]
  },
  {
   "cell_type": "code",
   "execution_count": 8,
   "id": "ec213b0b",
   "metadata": {},
   "outputs": [],
   "source": [
    "from langchain_openai import ChatOpenAI\n",
    "\n",
    "tools = [\n",
    "    get_stock_data,\n",
    "    get_news_articles\n",
    "]\n",
    "\n",
    "llm = ChatOpenAI(model=\"gpt-4o\")\n",
    "llm_with_tools = llm.bind_tools(tools)"
   ]
  },
  {
   "cell_type": "markdown",
   "id": "5e7cec04",
   "metadata": {},
   "source": [
    "System message and initial Node"
   ]
  },
  {
   "cell_type": "code",
   "execution_count": 22,
   "id": "069ff347",
   "metadata": {},
   "outputs": [],
   "source": [
    "from langgraph.graph import MessagesState\n",
    "from langchain_core.messages import HumanMessage, SystemMessage\n",
    "from langchain_core.output_parsers import JsonOutputParser\n",
    "from langchain_core.pydantic_v1 import BaseModel, Field\n",
    "\n",
    "class NewsSentiment(BaseModel):\n",
    "    news_headline: str = Field(..., description=\"News Headline\")\n",
    "    sentiment: float = Field(..., description=\"News rating between -1 and +1\")\n",
    "\n",
    "class StockAnalysis(BaseModel):\n",
    "    key_words: List[str] = Field(..., description=\"Key words related to finance from recent news\")\n",
    "    news_sentiment: List[NewsSentiment] = Field(..., description=\"A list of news headlines and its sentiment\")\n",
    "    overall_sentiment_rating: float = Field(..., description=\"Overall sentiment of the company in the news, rated between -10 and +10\")\n",
    "    reasoning: str = Field(..., description=\"A one line reason for assigning the overall sentiment rating\")\n",
    "\n",
    "parser = JsonOutputParser(pydantic_object=StockAnalysis)\n",
    "\n",
    "# System message\n",
    "sys_msg = SystemMessage(content=f\"\"\"\n",
    "You are an expert financial analyst. Analyze the stock data and news, \n",
    "then respond with a comprehensive analysis in JSON format.\n",
    "\n",
    "Response must be a valid JSON object matching this schema:\n",
    "{parser.get_format_instructions()}\n",
    "\n",
    "Guidelines:\n",
    "- Be objective and data-driven\n",
    "- Include both technical and fundamental analysis\n",
    "- Consider recent news impact\n",
    "- Provide clear, actionable recommendations\n",
    "- overall sentiment rating score should reflect certainty (-10 to +10)\n",
    "\"\"\")\n",
    "\n",
    "\n",
    "def prepare_human_message(ticker: str) -> HumanMessage:\n",
    "    return HumanMessage(content=f\"\"\"\n",
    "Analyze this stock data and provide your analysis in the requested JSON format.\n",
    "\n",
    "STOCK DATA for {ticker.upper()}:\n",
    "\n",
    "Provide your analysis in the exact JSON format specified, with no additional text.\n",
    "\"\"\")\n",
    "\n",
    "# Node\n",
    "def assistant(state: MessagesState):\n",
    "   return {\"messages\": [llm_with_tools.invoke([sys_msg] + state[\"messages\"])]}\n"
   ]
  },
  {
   "cell_type": "markdown",
   "id": "92063664",
   "metadata": {},
   "source": [
    "Creating a ReAct Graph "
   ]
  },
  {
   "cell_type": "code",
   "execution_count": 16,
   "id": "b4636698",
   "metadata": {},
   "outputs": [
    {
     "data": {
      "image/png": "[encoded data removed]",
      "text/plain": [
       "<IPython.core.display.Image object>"
      ]
     },
     "metadata": {},
     "output_type": "display_data"
    }
   ],
   "source": [
    "from langgraph.graph import START, StateGraph\n",
    "from langgraph.prebuilt import tools_condition, ToolNode\n",
    "from IPython.display import Image, display\n",
    "\n",
    "# Graph\n",
    "builder = StateGraph(MessagesState)\n",
    "\n",
    "# Define nodes: these do the work\n",
    "builder.add_node(\"assistant\", assistant)\n",
    "builder.add_node(\"tools\", ToolNode(tools))\n",
    "\n",
    "# Define edges: these determine how the control flow moves\n",
    "builder.add_edge(START, \"assistant\")\n",
    "builder.add_conditional_edges(\n",
    "    \"assistant\",\n",
    "    # If the latest message (result) from assistant is a tool call -> tools_condition routes to tools\n",
    "    # If the latest message (result) from assistant is a not a tool call -> tools_condition routes to END\n",
    "    tools_condition,\n",
    ")\n",
    "builder.add_edge(\"tools\", \"assistant\")\n",
    "react_graph = builder.compile()\n",
    "\n",
    "# Show\n",
    "display(Image(react_graph.get_graph(xray=True).draw_mermaid_png()))"
   ]
  },
  {
   "cell_type": "markdown",
   "id": "d66a9376",
   "metadata": {},
   "source": [
    "Create a parser prompt for prompting LLM to give response as expected"
   ]
  },
  {
   "cell_type": "markdown",
   "id": "0b3a2acc",
   "metadata": {},
   "source": [
    "Initialise Memory configuration and Agent call"
   ]
  },
  {
   "cell_type": "code",
   "execution_count": 27,
   "id": "9442d75d",
   "metadata": {},
   "outputs": [
    {
     "name": "stdout",
     "output_type": "stream",
     "text": [
      "================================\u001b[1m Human Message \u001b[0m=================================\n",
      "\n",
      "\n",
      "Analyze this stock data and provide your analysis in the requested JSON format.\n",
      "\n",
      "STOCK DATA for AAPL:\n",
      "\n",
      "Provide your analysis in the exact JSON format specified, with no additional text.\n",
      "\n",
      "==================================\u001b[1m Ai Message \u001b[0m==================================\n",
      "Tool Calls:\n",
      "  get_stock_data (call_LACJqJTpgYxwSCaCIDLhNohG)\n",
      " Call ID: call_LACJqJTpgYxwSCaCIDLhNohG\n",
      "  Args:\n",
      "    ticker: AAPL\n",
      "  get_news_articles (call_tELOiCyj4T83Dr7O0kNGsvDP)\n",
      " Call ID: call_tELOiCyj4T83Dr7O0kNGsvDP\n",
      "  Args:\n",
      "    query: AAPL\n",
      "=================================\u001b[1m Tool Message \u001b[0m=================================\n",
      "Name: get_stock_data\n",
      "\n",
      "{\"ticker\": \"AAPL\", \"shortName\": \"Apple Inc.\", \"currentPrice\": 258.06, \"previousClose\": 256.48, \"open\": 256.53, \"dayHigh\": 258.52, \"dayLow\": 256.11, \"volume\": 32126418, \"marketCap\": 3829710979072, \"currency\": \"USD\", \"exchange\": \"NMS\", \"sector\": \"Technology\", \"industry\": \"Consumer Electronics\", \"longBusinessSummary\": \"Apple Inc. designs, manufactures, and markets smartphones, personal computers, tablets, wearables, and accessories worldwide. The company offers iPhone, a line of smartphones; Mac, a line of personal computers; iPad, a line of multi-purpose tablets; and wearables, home, and accessories comprising AirPods, Apple TV, Apple Watch, Beats products, and HomePod. It also provides AppleCare support and cloud services; and operates various platforms, including the App Store that allow customers to discover and download applications and digital content, such as books, music, video, games, and podcasts, as well as advertising services include third-party licensing arrangements and its own advertising platforms. In addition, the company offers various subscription-based services, such as Apple Arcade, a game subscription service; Apple Fitness+, a personalized fitness service; Apple Music, which offers users a curated listening experience with on-demand radio stations; Apple News+, a subscription news and magazine service; Apple TV+, which offers exclusive original content; Apple Card, a co-branded credit card; and Apple Pay, a cashless payment service, as well as licenses its intellectual property. The company serves consumers, and small and mid-sized businesses; and the education, enterprise, and government markets. It distributes third-party applications for its products through the App Store. The company also sells its products through its retail and online stores, and direct sales force; and third-party cellular network carriers, wholesalers, retailers, and resellers. Apple Inc. was founded in 1976 and is headquartered in Cupertino, California.\"}\n",
      "=================================\u001b[1m Tool Message \u001b[0m=================================\n",
      "Name: get_news_articles\n",
      "\n",
      "[{\"source\": {\"id\": null, \"name\": \"Yahoo Entertainment\"}, \"author\": \"Syeda Seirut Javed\", \"title\": \"Jim Cramer Says Long-Term Apple Holders Are Winners\", \"description\": \"Apple Inc. (NASDAQ:AAPL) is one of the stocks Jim Cramer recently talked about. During the episode, Cramer emphasized owning and not trading the stock, as he...\", \"url\": \"https://finance.yahoo.com/news/jim-cramer-says-long-term-093418194.html\", \"urlToImage\": \"https://s.yimg.com/ny/api/res/1.2/cVvSOEVgXXeSO16E_nX5FQ--/YXBwaWQ9aGlnaGxhbmRlcjt3PTEyMDA7aD04MDA-/https://media.zenfs.com/en/insidermonkey.com/abe42548427d5976d59895bbd8b8797c\", \"publishedAt\": \"2025-10-08T09:34:18Z\", \"content\": \"Apple Inc. (NASDAQ:AAPL) is one of the stocks Jim Cramer recently talked about. During the episode, Cramer emphasized owning and not trading the stock, as he commented:\\r\\nHow much better would an indi… [+1932 chars]\"}, {\"source\": {\"id\": null, \"name\": \"Applech2.com\"}, \"author\": \"applech2\", \"title\": \"macOS 26 TahoeでWindowServerのGPU使用率を上昇させる不具合が修正されていないElectronアプリを確認できるWebサイト「shamelectron」が公開。\", \"description\": \"macOS 26 TahoeでWindowServerのGPU使用率を上昇させる不具合が修正されていないElectronアプリを確認できるWebサイト「shamelectron」が公開されています。詳細は以下から。 　 […]\\nThe post macOS 26 TahoeでWindowServerのGPU使用率を上昇させる不具合が修正されていないElectronアプリを確認できるWebサイト「shamelectron」が公開。 first appeared on AAPL Ch..\", \"url\": \"https://applech2.com/archives/20251008-shamelectron-tracking-problematic-electron-apps-macos-26-tahoe.html\", \"urlToImage\": \"https://applech2.com/wp-content/uploads/2025/10/shamelectron-Tracking-problematic-Electron-apps-macOS-26-Tahoe-Hero.webp\", \"publishedAt\": \"2025-10-07T20:50:18Z\", \"content\": \"macOS 26 TahoeWindowServerGPUElectronWebshamelectron\\r\\nApple202509macOS 26 TahoeVS CodeCursorDiscordSlackMicrosoft TeamsElectronWindowServerGPU100%ElectronAppleAPI\\r\\nI believe I found the root cause, t… [+919 chars]\"}, {\"source\": {\"id\": \"the-times-of-india\", \"name\": \"The Times of India\"}, \"author\": \"Piyush Shukla\", \"title\": \"US stock market today: S&P 500, Dow, and Nasdaq slip after a week of gains as Oracle crashes 5% and Tesla falls on Model Y buzz — investors rush to gold amid shutdown chaos and Fed uncertainty\", \"description\": \"US stock market fell on October 7, 2025. The S&P 500 dropped 0.4% amid worries about Oracle’s cloud business. The Nasdaq fell 0.7%, dragged down by tech stocks. The Dow slipped 0.2% as the government shutdown extended, causing uncertainty for investors.\", \"url\": \"https://economictimes.indiatimes.com/news/international/us/us-stock-market-today-sp-500-dow-and-nasdaq-slip-after-a-week-of-gains-as-oracle-crashes-5-and-tesla-falls-on-model-y-buzz-investors-rush-to-gold-amid-shutdown-chaos-and-fed-uncertainty/articleshow/124366355.cms\", \"urlToImage\": \"https://img.etimg.com/thumb/msid-124366420,width-1200,height-630,imgsize-30798,overlay-economictimes/articleshow.jpg\", \"publishedAt\": \"2025-10-07T15:58:17Z\", \"content\": \"US stock market retraced on Tuesday, October 7, 2025, as investors weighed concerns about the ongoing government shutdown and disappointing news from tech giant Oracle. The S&amp;P 500 index declined… [+7696 chars]\"}, {\"source\": {\"id\": null, \"name\": \"Yahoo Entertainment\"}, \"author\": \"Caleb Mutua\", \"title\": \"At $1.2 Trillion, More High-Grade Debt Now Tied to AI Than Banks\", \"description\": \"AI companies now make up 14% of the high-grade market from 11.5% in 2020, surpassing US banks, the largest sector on the JPMorgan US Liquid Index (JULI...\", \"url\": \"https://finance.yahoo.com/news/1-2-trillion-more-high-140538945.html\", \"urlToImage\": \"https://s.yimg.com/ny/api/res/1.2/Hw2QIeL6mnG4ohfFiEvXYw--/YXBwaWQ9aGlnaGxhbmRlcjt3PTEyMDA7aD04MDA-/https://s.yimg.com/os/creatr-uploaded-images/2025-10/7a5e3520-a2b5-11f0-bfff-3530fa5d202d\", \"publishedAt\": \"2025-10-07T14:05:38Z\", \"content\": \"(Bloomberg) The amount of debt tied to artificial intelligence has ballooned to $1.2 trillion, making it the largest segment in the investment-grade market, according to JPMorgan Chase &amp; Co. (JPM… [+2281 chars]\"}, {\"source\": {\"id\": null, \"name\": \"MarketWatch\"}, \"author\": \"Barbara Kollmeyer\", \"title\": \"Billionaire Ken Griffin warns on consequences of gold’s rally as Goldman targets nearly $5,000\", \"description\": \"Goldman Sachs is now forecasting gold to reach nearly $5,000 next year, but one billionaire investor says the precious metal’s rally is a sign of trouble for...\", \"url\": \"https://www.marketwatch.com/story/billionaire-ken-griffin-warns-on-golds-rally-as-goldman-targets-nearly-5-000-857edd74\", \"urlToImage\": \"https://s.yimg.com/ny/api/res/1.2/jdUNUF6M7GgpDiOEuPxIyw--/YXBwaWQ9aGlnaGxhbmRlcjt3PTEyMDA7aD02MDA-/https://media.zenfs.com/en/marketwatch_hosted_869/43b4a6f87f4f530faabdb745d15405a3\", \"publishedAt\": \"2025-10-07T13:33:00Z\", \"content\": \"A previous version of this Need to Know column and a MarketWatch news alert inaccurately characterized Ken Griffins view on gold, as compared with that of Goldman Sachs. \\r\\nGolds rally hints at troubl… [+6774 chars]\"}, {\"source\": {\"id\": null, \"name\": \"Biztoc.com\"}, \"author\": \"finance.yahoo.com\", \"title\": \"Analyst Says Apple’s (AAPL) Valuation Reflects “Overly Bullish” iPhone Outlook\", \"description\": \"Apple Inc. (NASDAQ:AAPL) is one of the AI Stocks Investors Are Watching Closely. On October 3, Jefferies downgraded the stock to “Underperform” from Hold stating that expectations are too high for a foldable iPhone 18 for Apple. It also lowered its price targ…\", \"url\": \"https://biztoc.com/x/4e3ac6be9503e2b8\", \"urlToImage\": \"https://biztoc.com/cdn/4e3ac6be9503e2b8_s.webp\", \"publishedAt\": \"2025-10-07T13:20:00Z\", \"content\": \"Apple Inc. (NASDAQ:AAPL) is one of the AI Stocks Investors Are Watching Closely. On October 3, Jefferies downgraded the stock to Underperform from Hold stating that expectations are too high for a fo… [+139 chars]\"}, {\"source\": {\"id\": null, \"name\": \"Yahoo Entertainment\"}, \"author\": \"Daniel Howley\", \"title\": \"Qualcomm to acquire Arduino amid edge computing push\", \"description\": \"Qualcomm announced it is acquiring Arduino as part of its deeper push into edge computing.\", \"url\": \"https://finance.yahoo.com/news/qualcomm-to-acquire-arduino-amid-edge-computing-push-130012919.html\", \"urlToImage\": \"https://s.yimg.com/ny/api/res/1.2/ZfH6qqB1BCccrvclWksXhw--/YXBwaWQ9aGlnaGxhbmRlcjt3PTEyMDA7aD04MDA-/https://s.yimg.com/os/creatr-uploaded-images/2025-10/18d1b620-a2e6-11f0-93ff-0423c76ad805\", \"publishedAt\": \"2025-10-07T13:00:12Z\", \"content\": \"Qualcomm (QCOM) announced on Monday that it is acquiring open-source hardware and software developer Arduino as it seeks to further grow its footprint in the edge computing space and push beyond its … [+2546 chars]\"}, {\"source\": {\"id\": null, \"name\": \"Yahoo Entertainment\"}, \"author\": \"Ghazal Ahmed\", \"title\": \"Analyst Says Apple’s (AAPL) Valuation Reflects “Overly Bullish” iPhone Outlook\", \"description\": \"Apple Inc. (NASDAQ:AAPL) is one of the AI Stocks Investors Are Watching Closely. On October 3, Jefferies downgraded the stock to “Underperform” from Hold...\", \"url\": \"https://finance.yahoo.com/news/analyst-says-apple-aapl-valuation-125908420.html\", \"urlToImage\": \"https://s.yimg.com/ny/api/res/1.2/TouGl4O5XBe7hx8Kz1KoeQ--/YXBwaWQ9aGlnaGxhbmRlcjt3PTEyMDA7aD04MDA-/https://media.zenfs.com/en/insidermonkey.com/21a3884aaea54d8e34ff2f7c65232ab7\", \"publishedAt\": \"2025-10-07T12:59:08Z\", \"content\": \"Apple Inc. (NASDAQ:AAPL) is one of the AI Stocks Investors Are Watching Closely. On October 3, Jefferies downgraded the stock to Underperform from Hold stating that expectations are too high for a fo… [+1377 chars]\"}, {\"source\": {\"id\": null, \"name\": \"Yahoo Entertainment\"}, \"author\": \"Grace L. Williams\", \"title\": \"Why Jim Cramer thinks the stock market isn't loved\", \"description\": \"Where is the love? In the case of the stock market, here is what Mad Money's Jim Cramer thinks.\", \"url\": \"https://finance.yahoo.com/news/why-jim-cramer-thinks-the-stock-market-isnt-loved-125154580.html\", \"urlToImage\": \"https://s.yimg.com/ny/api/res/1.2/1J34xgiwYSFRu_Qb0Yq5lg--/YXBwaWQ9aGlnaGxhbmRlcjt3PTEyMDA7aD0xNTkz/https://s.yimg.com/os/creatr-uploaded-images/2025-10/d5b57ac0-a335-11f0-9aff-57517e619689\", \"publishedAt\": \"2025-10-07T12:51:54Z\", \"content\": \"Listen and subscribe to Opening Bid Unfiltered on Apple Podcasts, Amazon Music, Spotify, YouTube, or wherever you find your favorite podcasts.\\r\\nWhile Warren Buffett said, our favorite holding period … [+2548 chars]\"}, {\"source\": {\"id\": null, \"name\": \"ETF Daily News\"}, \"author\": \"MarketBeat News\", \"title\": \"Foster Victor Wealth Advisors LLC Grows Holdings in Apple Inc. $AAPL\", \"description\": \"Foster Victor Wealth Advisors LLC increased its position in shares of Apple Inc. (NASDAQ:AAPL – Free Report) by 5.7% during the 2nd quarter, according to the company in its most recent Form 13F filing with the SEC. The fund owned 64,511 shares of the iPhone m…\", \"url\": \"https://www.etfdailynews.com/2025/10/07/foster-victor-wealth-advisors-llc-grows-holdings-in-apple-inc-aapl/\", \"urlToImage\": \"https://www.americanbankingnews.com/wp-content/timthumb/timthumb.php?src=https://www.marketbeat.com/logos/apple-inc-logo-1200x675.png&w=240&h=240&zc=2\", \"publishedAt\": \"2025-10-07T09:22:55Z\", \"content\": \"Foster Victor Wealth Advisors LLC increased its position in shares of Apple Inc. (NASDAQ:AAPL – Free Report) by 5.7% during the 2nd quarter, according to the company in its most recent Form 13F filin… [+6475 chars]\"}]\n",
      "==================================\u001b[1m Ai Message \u001b[0m==================================\n",
      "\n",
      "```json\n",
      "{\n",
      "    \"key_words\": [\n",
      "        \"Jim Cramer\",\n",
      "        \"Apple stock\",\n",
      "        \"Downgrade\",\n",
      "        \"Valuation\",\n",
      "        \"iPhone Outlook\",\n",
      "        \"NASDAQ\",\n",
      "        \"Government Shutdown\",\n",
      "        \"Jefferies\",\n",
      "        \"High-Grade Debt\",\n",
      "        \"Edge Computing\"\n",
      "    ],\n",
      "    \"news_sentiment\": [\n",
      "        {\n",
      "            \"news_headline\": \"Jim Cramer Says Long-Term Apple Holders Are Winners\",\n",
      "            \"sentiment\": 0.7\n",
      "        },\n",
      "        {\n",
      "            \"news_headline\": \"macOS 26 TahoeでWindowServerのGPU使用率を上昇させる不具合が修正されていないElectronアプリを確認できるWebサイト「shamelectron」が公開。\",\n",
      "            \"sentiment\": -0.2\n",
      "        },\n",
      "        {\n",
      "            \"news_headline\": \"US stock market today: S&P 500, Dow, and Nasdaq slip after a week of gains as Oracle crashes 5% and Tesla falls on Model Y buzz — investors rush to gold amid shutdown chaos and Fed uncertainty\",\n",
      "            \"sentiment\": -0.4\n",
      "        },\n",
      "        {\n",
      "            \"news_headline\": \"At $1.2 Trillion, More High-Grade Debt Now Tied to AI Than Banks\",\n",
      "            \"sentiment\": 0.2\n",
      "        },\n",
      "        {\n",
      "            \"news_headline\": \"Billionaire Ken Griffin warns on consequences of gold’s rally as Goldman targets nearly $5,000\",\n",
      "            \"sentiment\": -0.3\n",
      "        },\n",
      "        {\n",
      "            \"news_headline\": \"Analyst Says Apple’s (AAPL) Valuation Reflects “Overly Bullish” iPhone Outlook\",\n",
      "            \"sentiment\": -0.5\n",
      "        },\n",
      "        {\n",
      "            \"news_headline\": \"Qualcomm to acquire Arduino amid edge computing push\",\n",
      "            \"sentiment\": 0.3\n",
      "        },\n",
      "        {\n",
      "            \"news_headline\": \"Why Jim Cramer thinks the stock market isn't loved\",\n",
      "            \"sentiment\": -0.1\n",
      "        },\n",
      "        {\n",
      "            \"news_headline\": \"Foster Victor Wealth Advisors LLC Grows Holdings in Apple Inc. $AAPL\",\n",
      "            \"sentiment\": 0.5\n",
      "        }\n",
      "    ],\n",
      "    \"overall_sentiment_rating\": 2.5,\n",
      "    \"reasoning\": \"The sentiment around Apple is mixed with positive long-term analysis from Jim Cramer, juxtaposed with concerns over valuation and market position amidst general market downturn.\"\n",
      "}\n",
      "```\n"
     ]
    }
   ],
   "source": [
    "from langgraph.checkpoint.memory import MemorySaver\n",
    "memory = MemorySaver()\n",
    "react_graph_memory = builder.compile(checkpointer=memory)\n",
    "\n",
    "config = {\"configurable\": {\"thread_id\": \"1\"}}\n",
    "\n",
    "# Specify an input\n",
    "messages = [prepare_human_message(\"AAPL\")]\n",
    "\n",
    "# Run\n",
    "messages = react_graph_memory.invoke({\"messages\": messages},config)\n",
    "\n",
    "for m in messages['messages']:\n",
    "    m.pretty_print()\n",
    "\n",
    "# final_message = messages[\"messages\"][-1]\n",
    "\n",
    "# # If you want to extract just the content\n",
    "# final_output = final_message.content\n",
    "\n",
    "# # Print or use the final output\n",
    "# print(\"Final Output:\", final_output)\n"
   ]
  }
 ],
 "metadata": {
  "kernelspec": {
   "display_name": "venv",
   "language": "python",
   "name": "python3"
  },
  "language_info": {
   "codemirror_mode": {
    "name": "ipython",
    "version": 3
   },
   "file_extension": ".py",
   "mimetype": "text/x-python",
   "name": "python",
   "nbconvert_exporter": "python",
   "pygments_lexer": "ipython3",
   "version": "3.13.2"
  }
 },
 "nbformat": 4,
 "nbformat_minor": 5
}
