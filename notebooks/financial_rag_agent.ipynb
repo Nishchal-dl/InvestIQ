{
 "cells": [
  {
   "cell_type": "markdown",
   "id": "1e4f75d5",
   "metadata": {},
   "source": [
    "# Financial RAG Agent \n",
    "\n",
    "This is a research notebook for building a financial RAG agent. The dataset for this notebook is taken from Kaggle [Financial Reports QA Dataset for RAG-based LLM Fin](https://www.kaggle.com/datasets/ahmedsta/data-retreiver). The data contains financial reports in pdf format from various companies. \n",
    "\n",
    "The dataset also contains a set of questions and expected answers that can be used to evaluate the performance of the RAG agent."
   ]
  },
  {
   "cell_type": "code",
   "execution_count": null,
   "id": "206bd5cb",
   "metadata": {},
   "outputs": [],
   "source": [
    "import os\n",
    "from langchain.chat_models import init_chat_model\n",
    "from dotenv import load_dotenv\n",
    "\n",
    "load_dotenv()"
   ]
  },
  {
   "cell_type": "markdown",
   "id": "d2b996c8",
   "metadata": {},
   "source": [
    "This RAG agent would be using OpenAI model as the underlying LLM and hence the embedding would be done using OpenAI's text-embedding-3-large model."
   ]
  },
  {
   "cell_type": "code",
   "execution_count": 2,
   "id": "6d8f8c54",
   "metadata": {},
   "outputs": [],
   "source": [
    "from langchain_openai import OpenAIEmbeddings\n",
    "\n",
    "embeddings = OpenAIEmbeddings(model=\"text-embedding-3-large\")"
   ]
  },
  {
   "cell_type": "code",
   "execution_count": 34,
   "id": "89b22300",
   "metadata": {},
   "outputs": [],
   "source": [
    "from langchain_core.vectorstores import InMemoryVectorStore\n",
    "\n",
    "vector_store = InMemoryVectorStore(embeddings)"
   ]
  },
  {
   "cell_type": "code",
   "execution_count": 35,
   "id": "bc923bfd",
   "metadata": {},
   "outputs": [
    {
     "name": "stdout",
     "output_type": "stream",
     "text": [
      "Loading 2021ESG.pdf...\n",
      "Loaded 116 pages from 2021ESG.pdf\n",
      "Loading 2022-Absa-Group-limited-Environmental-Social-and-Governance-Data-sheet.pdf...\n",
      "Loaded 26 pages from 2022-Absa-Group-limited-Environmental-Social-and-Governance-Data-sheet.pdf\n",
      "Loading Clicks-Sustainability-Report-2022.pdf...\n",
      "Loaded 21 pages from Clicks-Sustainability-Report-2022.pdf\n",
      "Loading DISTELL ESG Appendix 2022.pdf...\n",
      "Loaded 17 pages from DISTELL ESG Appendix 2022.pdf\n",
      "Loading ESG-spreads.pdf...\n",
      "Loaded 76 pages from ESG-spreads.pdf\n",
      "Loading picknpay-esg-report-spreads-2023.pdf...\n",
      "Loaded 24 pages from picknpay-esg-report-spreads-2023.pdf\n",
      "Loading SASOL Sustainability Report 2023 20-09_0.pdf...\n",
      "Loaded 66 pages from SASOL Sustainability Report 2023 20-09_0.pdf\n",
      "\n",
      "Total documents loaded: 346\n"
     ]
    }
   ],
   "source": [
    "from langchain_community.document_loaders import PyPDFLoader\n",
    "import os\n",
    "\n",
    "data_dir = \"./../dataset/Structured data-20250319T105519Z-001/Structured data\"\n",
    "\n",
    "pdf_files = [f for f in os.listdir(data_dir) if f.endswith('.pdf')]\n",
    "\n",
    "documents = []\n",
    "\n",
    "for pdf_file in pdf_files:\n",
    "    file_path = os.path.join(data_dir, pdf_file)\n",
    "    print(f\"Loading {pdf_file}...\")\n",
    "    try:\n",
    "        loader = PyPDFLoader(file_path)\n",
    "        pages = loader.load()\n",
    "        documents.extend(pages)\n",
    "        print(f\"Loaded {len(pages)} pages from {pdf_file}\")\n",
    "    except Exception as e:\n",
    "        print(f\"Error loading {pdf_file}: {str(e)}\")\n",
    "\n",
    "print(f\"\\nTotal documents loaded: {len(documents)}\")"
   ]
  },
  {
   "cell_type": "code",
   "execution_count": 36,
   "id": "5e75eb79",
   "metadata": {},
   "outputs": [
    {
     "name": "stdout",
     "output_type": "stream",
     "text": [
      "PARTNERING IN GROWTH\n",
      "CONTENTS\n",
      "02\n",
      "04\n",
      "05\n",
      "01 INTRODUCTION\n",
      "02 COMPREHENSIVE DATA TABLE\n",
      "08 ABOUT THIS REPORT\n",
      "10 ABOUT TONGAAT HULETT\n",
      "11 GEOGRAPHIC FOOTPRINT\n",
      "12 OUR BUSINESS MODEL\n",
      "14 OUR CONTRIBUTION TO SOCIETY\n",
      "OUR APPROACH\n",
      "18 APPROACH TO SUSTAINABILITY\n",
      "19 CLIMATE CHANGE AND SUSTAINABILITY GOVERNANCE \n",
      "22 MEDIUM- TERM ESG STRATEGY\n",
      "23 OUR MOST MATERIAL ISSUES\n",
      "26 RESPONDING TO THE SUSTAINABLE DEVELOPMENT GOALS\n",
      "38 UNITED NATIONS GLOBAL COMPACT COMMUNICATION  \n",
      "ON PROGRESS FOR 2021\n",
      "HUMAN CAPITAL\n",
      "42 HUMAN CA\n"
     ]
    }
   ],
   "source": [
    "print(documents[1].page_content[:500])"
   ]
  },
  {
   "cell_type": "code",
   "execution_count": 37,
   "id": "f338fc22",
   "metadata": {},
   "outputs": [
    {
     "name": "stdout",
     "output_type": "stream",
     "text": [
      "Split the financial docs into 1683 sub-documents.\n"
     ]
    }
   ],
   "source": [
    "from langchain_text_splitters import RecursiveCharacterTextSplitter\n",
    "\n",
    "text_splitter = RecursiveCharacterTextSplitter(\n",
    "    chunk_size=1000,  \n",
    "    chunk_overlap=200,  \n",
    "    add_start_index=True, \n",
    ")\n",
    "all_splits = text_splitter.split_documents(documents)\n",
    "\n",
    "print(f\"Split the financial docs into {len(all_splits)} sub-documents.\")"
   ]
  },
  {
   "cell_type": "code",
   "execution_count": 39,
   "id": "424da945",
   "metadata": {},
   "outputs": [
    {
     "name": "stdout",
     "output_type": "stream",
     "text": [
      "['96d37883-e579-4cd2-ba13-7515467f2df5', '5af76b3e-dcf1-4ab8-ac37-3ddb1aa5dfa1', 'f286c02b-e778-4a3a-a9dc-92e0fca4015d', '7c7e3048-16a9-4dd3-b4c5-2da203358633', '25c4bba1-0996-4f81-ab63-bb66522d41ad', '769b3038-794f-4b79-8e67-12a4949985eb', '414fda52-5b87-4969-a742-e898be7750cc', 'a18b0e71-041b-4b25-9bb8-5f6b8fb7d023', 'cfd22d6b-9707-422d-9fe3-ca25cbdf03cc', '5694ec7e-7b50-4d00-b8b3-1aa3cc3e6a48']\n"
     ]
    }
   ],
   "source": [
    "document_ids = vector_store.add_documents(documents=all_splits)\n",
    "\n",
    "print(document_ids[:10])"
   ]
  },
  {
   "cell_type": "code",
   "execution_count": 40,
   "id": "0888381d",
   "metadata": {},
   "outputs": [],
   "source": [
    "from langchain.tools import tool\n",
    "\n",
    "@tool(response_format=\"content_and_artifact\")\n",
    "def retrieve_context(query: str):\n",
    "    \"\"\"Retrieve information to help answer a query.\"\"\"\n",
    "    retrieved_docs = vector_store.similarity_search(query, k=2)\n",
    "    serialized = \"\\n\\n\".join(\n",
    "        (f\"Source: {doc.metadata}\\nContent: {doc.page_content}\")\n",
    "        for doc in retrieved_docs\n",
    "    )\n",
    "    return serialized, retrieved_docs"
   ]
  },
  {
   "cell_type": "code",
   "execution_count": 41,
   "id": "2cd48b8f",
   "metadata": {},
   "outputs": [],
   "source": [
    "from langgraph.prebuilt import create_react_agent\n",
    "\n",
    "tools = [retrieve_context]\n",
    "prompt = \"\"\"\n",
    "    You have access to a tool that retrieves context from financial documents. \n",
    "    Use the tool to help answer user queries.\n",
    "\"\"\"\n",
    "\n",
    "agent = create_react_agent(\n",
    "    model=\"openai:gpt-4.1\",\n",
    "    tools=tools,\n",
    "    prompt=(prompt),\n",
    ")\n"
   ]
  },
  {
   "cell_type": "code",
   "execution_count": 42,
   "id": "c7e251aa",
   "metadata": {},
   "outputs": [
    {
     "name": "stdout",
     "output_type": "stream",
     "text": [
      "================================\u001b[1m Human Message \u001b[0m=================================\n",
      "\n",
      "what is the value of Average age 40-49 years in Absa document in 2020?\n",
      "==================================\u001b[1m Ai Message \u001b[0m==================================\n",
      "Tool Calls:\n",
      "  retrieve_context (call_9uEqEhOa3GYk9IyWCoaybg0O)\n",
      " Call ID: call_9uEqEhOa3GYk9IyWCoaybg0O\n",
      "  Args:\n",
      "    query: Average age 40-49 years in Absa document 2020\n",
      "=================================\u001b[1m Tool Message \u001b[0m=================================\n",
      "Name: retrieve_context\n",
      "\n",
      "Source: {'producer': 'Adobe PDF Library 16.0.7', 'creator': 'Adobe InDesign 17.4 (Macintosh)', 'creationdate': '2023-03-31T16:04:42+02:00', 'moddate': '2023-04-17T07:26:06+02:00', 'trapped': '/False', 'source': './../dataset/Structured data-20250319T105519Z-001/Structured data\\\\2022-Absa-Group-limited-Environmental-Social-and-Governance-Data-sheet.pdf', 'total_pages': 26, 'page': 3, 'page_label': '4', 'start_index': 0}\n",
      "Content: Absa Group Limited 2022 E nvironmental, Social and Governance Indicators\n",
      "4\n",
      "Absa social data – Operations\n",
      "Indicator Trend 2022 2021 2020 2019 Targets/Comments\n",
      "Labour\n",
      "Total number of employees  35 451 35 267 36 737 38 472\n",
      "Per employment category:\n",
      "Permanent – male  13 413 13 503 14 032 14 325\n",
      "Permanent – female  20 924 21 061 22 147 23 086\n",
      "Temporary – male  495 302 258 626\n",
      "Temporary – female  619 401 300 435\n",
      "Full time – male  13 901 13 792 14 242 14 853\n",
      "Full time – female  21 519 21 407 22 307 23 276\n",
      "Part time – male  7 13 48 98\n",
      "Part time – female  24 55 140 245\n",
      "Per region\n",
      "South Africa – male  9 239 9 291 9 721 10 103\n",
      "South Africa – female  16 480 16 617 17 439 18 193\n",
      "Absa Regional Operations – male  4 518 4 355 4 547 4 832\n",
      "Absa Regional Operations – female  5 038 4 825 4 996 5 317\n",
      "International – male  151 159 22 16\n",
      "International – female  25 20 12 11\n",
      "By age:\n",
      "<20 male = - 1 1 6\n",
      "<20 female  3 9 3 7\n",
      "20 – 29 male  1 577 1 527 1 860 2 328\n",
      "\n",
      "Source: {'producer': 'Adobe PDF Library 16.0.7', 'creator': 'Adobe InDesign 17.4 (Macintosh)', 'creationdate': '2023-03-31T16:04:42+02:00', 'moddate': '2023-04-17T07:26:06+02:00', 'trapped': '/False', 'source': './../dataset/Structured data-20250319T105519Z-001/Structured data\\\\2022-Absa-Group-limited-Environmental-Social-and-Governance-Data-sheet.pdf', 'total_pages': 26, 'page': 3, 'page_label': '4', 'start_index': 0}\n",
      "Content: Absa Group Limited 2022 E nvironmental, Social and Governance Indicators\n",
      "4\n",
      "Absa social data – Operations\n",
      "Indicator Trend 2022 2021 2020 2019 Targets/Comments\n",
      "Labour\n",
      "Total number of employees  35 451 35 267 36 737 38 472\n",
      "Per employment category:\n",
      "Permanent – male  13 413 13 503 14 032 14 325\n",
      "Permanent – female  20 924 21 061 22 147 23 086\n",
      "Temporary – male  495 302 258 626\n",
      "Temporary – female  619 401 300 435\n",
      "Full time – male  13 901 13 792 14 242 14 853\n",
      "Full time – female  21 519 21 407 22 307 23 276\n",
      "Part time – male  7 13 48 98\n",
      "Part time – female  24 55 140 245\n",
      "Per region\n",
      "South Africa – male  9 239 9 291 9 721 10 103\n",
      "South Africa – female  16 480 16 617 17 439 18 193\n",
      "Absa Regional Operations – male  4 518 4 355 4 547 4 832\n",
      "Absa Regional Operations – female  5 038 4 825 4 996 5 317\n",
      "International – male  151 159 22 16\n",
      "International – female  25 20 12 11\n",
      "By age:\n",
      "<20 male = - 1 1 6\n",
      "<20 female  3 9 3 7\n",
      "20 – 29 male  1 577 1 527 1 860 2 328\n",
      "==================================\u001b[1m Ai Message \u001b[0m==================================\n",
      "Tool Calls:\n",
      "  retrieve_context (call_ty7utSB01g0T37Hkv2cQ72Km)\n",
      " Call ID: call_ty7utSB01g0T37Hkv2cQ72Km\n",
      "  Args:\n",
      "    query: Average age 40-49 years in Absa document 2020\n",
      "=================================\u001b[1m Tool Message \u001b[0m=================================\n",
      "Name: retrieve_context\n",
      "\n",
      "Source: {'producer': 'Adobe PDF Library 16.0.7', 'creator': 'Adobe InDesign 17.4 (Macintosh)', 'creationdate': '2023-03-31T16:04:42+02:00', 'moddate': '2023-04-17T07:26:06+02:00', 'trapped': '/False', 'source': './../dataset/Structured data-20250319T105519Z-001/Structured data\\\\2022-Absa-Group-limited-Environmental-Social-and-Governance-Data-sheet.pdf', 'total_pages': 26, 'page': 3, 'page_label': '4', 'start_index': 0}\n",
      "Content: Absa Group Limited 2022 E nvironmental, Social and Governance Indicators\n",
      "4\n",
      "Absa social data – Operations\n",
      "Indicator Trend 2022 2021 2020 2019 Targets/Comments\n",
      "Labour\n",
      "Total number of employees  35 451 35 267 36 737 38 472\n",
      "Per employment category:\n",
      "Permanent – male  13 413 13 503 14 032 14 325\n",
      "Permanent – female  20 924 21 061 22 147 23 086\n",
      "Temporary – male  495 302 258 626\n",
      "Temporary – female  619 401 300 435\n",
      "Full time – male  13 901 13 792 14 242 14 853\n",
      "Full time – female  21 519 21 407 22 307 23 276\n",
      "Part time – male  7 13 48 98\n",
      "Part time – female  24 55 140 245\n",
      "Per region\n",
      "South Africa – male  9 239 9 291 9 721 10 103\n",
      "South Africa – female  16 480 16 617 17 439 18 193\n",
      "Absa Regional Operations – male  4 518 4 355 4 547 4 832\n",
      "Absa Regional Operations – female  5 038 4 825 4 996 5 317\n",
      "International – male  151 159 22 16\n",
      "International – female  25 20 12 11\n",
      "By age:\n",
      "<20 male = - 1 1 6\n",
      "<20 female  3 9 3 7\n",
      "20 – 29 male  1 577 1 527 1 860 2 328\n",
      "\n",
      "Source: {'producer': 'Adobe PDF Library 16.0.7', 'creator': 'Adobe InDesign 17.4 (Macintosh)', 'creationdate': '2023-03-31T16:04:42+02:00', 'moddate': '2023-04-17T07:26:06+02:00', 'trapped': '/False', 'source': './../dataset/Structured data-20250319T105519Z-001/Structured data\\\\2022-Absa-Group-limited-Environmental-Social-and-Governance-Data-sheet.pdf', 'total_pages': 26, 'page': 3, 'page_label': '4', 'start_index': 0}\n",
      "Content: Absa Group Limited 2022 E nvironmental, Social and Governance Indicators\n",
      "4\n",
      "Absa social data – Operations\n",
      "Indicator Trend 2022 2021 2020 2019 Targets/Comments\n",
      "Labour\n",
      "Total number of employees  35 451 35 267 36 737 38 472\n",
      "Per employment category:\n",
      "Permanent – male  13 413 13 503 14 032 14 325\n",
      "Permanent – female  20 924 21 061 22 147 23 086\n",
      "Temporary – male  495 302 258 626\n",
      "Temporary – female  619 401 300 435\n",
      "Full time – male  13 901 13 792 14 242 14 853\n",
      "Full time – female  21 519 21 407 22 307 23 276\n",
      "Part time – male  7 13 48 98\n",
      "Part time – female  24 55 140 245\n",
      "Per region\n",
      "South Africa – male  9 239 9 291 9 721 10 103\n",
      "South Africa – female  16 480 16 617 17 439 18 193\n",
      "Absa Regional Operations – male  4 518 4 355 4 547 4 832\n",
      "Absa Regional Operations – female  5 038 4 825 4 996 5 317\n",
      "International – male  151 159 22 16\n",
      "International – female  25 20 12 11\n",
      "By age:\n",
      "<20 male = - 1 1 6\n",
      "<20 female  3 9 3 7\n",
      "20 – 29 male  1 577 1 527 1 860 2 328\n",
      "==================================\u001b[1m Ai Message \u001b[0m==================================\n",
      "\n",
      "The value for \"Average age 40-49 years\" in the Absa document for 2020 is not directly shown in the retrieved sections. The document provides employee data by age group, but from the extracted content, the row for the 40-49 years age group is not visible. To provide the exact value, I would need the specific row or further content from the table that breaks down employees by age groups including 40-49 for the year 2020.\n",
      "\n",
      "If you want, I can continue searching for the specific 40-49 years age group data for 2020—please let me know!\n"
     ]
    }
   ],
   "source": [
    "query = \"what is the value of Average age 40-49 years in Absa document in 2020?\"\n",
    "\n",
    "for event in agent.stream(\n",
    "    {\"messages\": [{\"role\": \"user\", \"content\": query}]},\n",
    "    stream_mode=\"values\",\n",
    "):\n",
    "    event[\"messages\"][-1].pretty_print()"
   ]
  }
 ],
 "metadata": {
  "kernelspec": {
   "display_name": "venv",
   "language": "python",
   "name": "python3"
  },
  "language_info": {
   "codemirror_mode": {
    "name": "ipython",
    "version": 3
   },
   "file_extension": ".py",
   "mimetype": "text/x-python",
   "name": "python",
   "nbconvert_exporter": "python",
   "pygments_lexer": "ipython3",
   "version": "3.13.2"
  }
 },
 "nbformat": 4,
 "nbformat_minor": 5
}
