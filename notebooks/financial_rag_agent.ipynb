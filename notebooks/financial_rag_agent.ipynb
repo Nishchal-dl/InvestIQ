{
 "cells": [
  {
   "cell_type": "markdown",
   "id": "1e4f75d5",
   "metadata": {},
   "source": [
    "# Financial RAG Agent \n",
    "\n",
    "This is a research notebook for building a financial RAG agent. The dataset for this notebook is taken from Kaggle [Financial Reports QA Dataset for RAG-based LLM Fin](https://www.kaggle.com/datasets/ahmedsta/data-retreiver). The data contains financial reports in pdf format from various companies. \n",
    "\n",
    "The dataset also contains a set of questions and expected answers that can be used to evaluate the performance of the RAG agent."
   ]
  },
  {
   "cell_type": "code",
   "execution_count": 43,
   "id": "206bd5cb",
   "metadata": {},
   "outputs": [
    {
     "data": {
      "text/plain": [
       "True"
      ]
     },
     "execution_count": 43,
     "metadata": {},
     "output_type": "execute_result"
    }
   ],
   "source": [
    "import os\n",
    "from langchain.chat_models import init_chat_model\n",
    "from dotenv import load_dotenv\n",
    "\n",
    "load_dotenv()"
   ]
  },
  {
   "cell_type": "markdown",
   "id": "d2b996c8",
   "metadata": {},
   "source": [
    "This RAG agent would be using OpenAI model as the underlying LLM and hence the embedding would be done using OpenAI's text-embedding-3-large model."
   ]
  },
  {
   "cell_type": "code",
   "execution_count": 44,
   "id": "6d8f8c54",
   "metadata": {},
   "outputs": [],
   "source": [
    "from langchain_openai import OpenAIEmbeddings\n",
    "\n",
    "embeddings = OpenAIEmbeddings(model=\"text-embedding-3-large\")"
   ]
  },
  {
   "cell_type": "code",
   "execution_count": 45,
   "id": "89b22300",
   "metadata": {},
   "outputs": [],
   "source": [
    "from langchain_core.vectorstores import InMemoryVectorStore\n",
    "\n",
    "vector_store = InMemoryVectorStore(embeddings)"
   ]
  },
  {
   "cell_type": "code",
   "execution_count": 46,
   "id": "bc923bfd",
   "metadata": {},
   "outputs": [
    {
     "name": "stdout",
     "output_type": "stream",
     "text": [
      "Loading 2021ESG.pdf...\n",
      "Loaded 116 pages from 2021ESG.pdf\n",
      "Loading 2022-Absa-Group-limited-Environmental-Social-and-Governance-Data-sheet.pdf...\n",
      "Loaded 26 pages from 2022-Absa-Group-limited-Environmental-Social-and-Governance-Data-sheet.pdf\n",
      "Loading Clicks-Sustainability-Report-2022.pdf...\n",
      "Loaded 21 pages from Clicks-Sustainability-Report-2022.pdf\n",
      "Loading DISTELL ESG Appendix 2022.pdf...\n",
      "Loaded 17 pages from DISTELL ESG Appendix 2022.pdf\n",
      "Loading ESG-spreads.pdf...\n",
      "Loaded 76 pages from ESG-spreads.pdf\n",
      "Loading picknpay-esg-report-spreads-2023.pdf...\n",
      "Loaded 24 pages from picknpay-esg-report-spreads-2023.pdf\n",
      "Loading SASOL Sustainability Report 2023 20-09_0.pdf...\n",
      "Loaded 66 pages from SASOL Sustainability Report 2023 20-09_0.pdf\n",
      "\n",
      "Total documents loaded: 346\n"
     ]
    }
   ],
   "source": [
    "from langchain_community.document_loaders import PyPDFLoader\n",
    "import os\n",
    "\n",
    "data_dir = \"./../dataset/Structured data-20250319T105519Z-001/Structured data\"\n",
    "\n",
    "pdf_files = [f for f in os.listdir(data_dir) if f.endswith('.pdf')]\n",
    "\n",
    "documents = []\n",
    "\n",
    "for pdf_file in pdf_files:\n",
    "    file_path = os.path.join(data_dir, pdf_file)\n",
    "    print(f\"Loading {pdf_file}...\")\n",
    "    try:\n",
    "        loader = PyPDFLoader(file_path)\n",
    "        pages = loader.load()\n",
    "        documents.extend(pages)\n",
    "        print(f\"Loaded {len(pages)} pages from {pdf_file}\")\n",
    "    except Exception as e:\n",
    "        print(f\"Error loading {pdf_file}: {str(e)}\")\n",
    "\n",
    "print(f\"\\nTotal documents loaded: {len(documents)}\")"
   ]
  },
  {
   "cell_type": "code",
   "execution_count": 47,
   "id": "5e75eb79",
   "metadata": {},
   "outputs": [
    {
     "name": "stdout",
     "output_type": "stream",
     "text": [
      "PARTNERING IN GROWTH\n",
      "CONTENTS\n",
      "02\n",
      "04\n",
      "05\n",
      "01 INTRODUCTION\n",
      "02 COMPREHENSIVE DATA TABLE\n",
      "08 ABOUT THIS REPORT\n",
      "10 ABOUT TONGAAT HULETT\n",
      "11 GEOGRAPHIC FOOTPRINT\n",
      "12 OUR BUSINESS MODEL\n",
      "14 OUR CONTRIBUTION TO SOCIETY\n",
      "OUR APPROACH\n",
      "18 APPROACH TO SUSTAINABILITY\n",
      "19 CLIMATE CHANGE AND SUSTAINABILITY GOVERNANCE \n",
      "22 MEDIUM- TERM ESG STRATEGY\n",
      "23 OUR MOST MATERIAL ISSUES\n",
      "26 RESPONDING TO THE SUSTAINABLE DEVELOPMENT GOALS\n",
      "38 UNITED NATIONS GLOBAL COMPACT COMMUNICATION  \n",
      "ON PROGRESS FOR 2021\n",
      "HUMAN CAPITAL\n",
      "42 HUMAN CA\n"
     ]
    }
   ],
   "source": [
    "print(documents[1].page_content[:500])"
   ]
  },
  {
   "cell_type": "code",
   "execution_count": 48,
   "id": "f338fc22",
   "metadata": {},
   "outputs": [
    {
     "name": "stdout",
     "output_type": "stream",
     "text": [
      "Split the financial docs into 1683 sub-documents.\n"
     ]
    }
   ],
   "source": [
    "from langchain_text_splitters import RecursiveCharacterTextSplitter\n",
    "\n",
    "text_splitter = RecursiveCharacterTextSplitter(\n",
    "    chunk_size=1000,  \n",
    "    chunk_overlap=200,  \n",
    "    add_start_index=True, \n",
    ")\n",
    "all_splits = text_splitter.split_documents(documents)\n",
    "\n",
    "print(f\"Split the financial docs into {len(all_splits)} sub-documents.\")"
   ]
  },
  {
   "cell_type": "code",
   "execution_count": 49,
   "id": "424da945",
   "metadata": {},
   "outputs": [
    {
     "name": "stdout",
     "output_type": "stream",
     "text": [
      "['032b98bb-080b-4cee-ae4c-264d8d7edbee', 'cd0fccd4-caee-418b-b02f-73fab032032b', 'acf6edd8-2dba-40b5-a11a-7cf2f3899bb2', 'ba54e834-8774-449c-a75f-32436b6cc3b8', 'f510f220-f890-48f2-bf37-84ee6d04dfc2', '3b3f0217-33ac-435b-9f3f-f5693b9f50ae', '07c2d686-049b-4de5-a51c-88502a725845', '70cf62e4-80a2-4a62-81d1-ef6327e4b1bf', '49ca71b4-2640-4e05-a31e-e0aa34146ac9', 'd06d4255-9443-4140-9a7b-d8550e532164']\n"
     ]
    }
   ],
   "source": [
    "document_ids = vector_store.add_documents(documents=all_splits)\n",
    "\n",
    "print(document_ids[:10])"
   ]
  },
  {
   "cell_type": "code",
   "execution_count": 50,
   "id": "0888381d",
   "metadata": {},
   "outputs": [],
   "source": [
    "from langchain.tools import tool\n",
    "\n",
    "@tool(response_format=\"content_and_artifact\")\n",
    "def retrieve_context(query: str):\n",
    "    \"\"\"Retrieve information to help answer a query.\"\"\"\n",
    "    retrieved_docs = vector_store.similarity_search(query, k=2)\n",
    "    serialized = \"\\n\\n\".join(\n",
    "        (f\"Source: {doc.metadata}\\nContent: {doc.page_content}\")\n",
    "        for doc in retrieved_docs\n",
    "    )\n",
    "    return serialized, retrieved_docs"
   ]
  },
  {
   "cell_type": "code",
   "execution_count": 51,
   "id": "2cd48b8f",
   "metadata": {},
   "outputs": [],
   "source": [
    "from langgraph.prebuilt import create_react_agent\n",
    "\n",
    "tools = [retrieve_context]\n",
    "prompt = \"\"\"\n",
    "    You have access to a tool that retrieves context from financial documents. \n",
    "    Use the tool to help answer user queries.\n",
    "\"\"\"\n",
    "\n",
    "agent = create_react_agent(\n",
    "    model=\"openai:gpt-4.1\",\n",
    "    tools=tools,\n",
    "    prompt=(prompt),\n",
    ")\n"
   ]
  },
  {
   "cell_type": "code",
   "execution_count": 52,
   "id": "c7e251aa",
   "metadata": {},
   "outputs": [
    {
     "name": "stdout",
     "output_type": "stream",
     "text": [
      "================================\u001b[1m Human Message \u001b[0m=================================\n",
      "\n",
      "what is the value of Average age 40-49 years in Absa document in 2020?\n",
      "==================================\u001b[1m Ai Message \u001b[0m==================================\n",
      "Tool Calls:\n",
      "  retrieve_context (call_AdNxdWwYp3POiXBNaaK6sDMt)\n",
      " Call ID: call_AdNxdWwYp3POiXBNaaK6sDMt\n",
      "  Args:\n",
      "    query: Average age 40-49 years in Absa document 2020\n",
      "=================================\u001b[1m Tool Message \u001b[0m=================================\n",
      "Name: retrieve_context\n",
      "\n",
      "Source: {'producer': 'Adobe PDF Library 16.0.7', 'creator': 'Adobe InDesign 17.4 (Macintosh)', 'creationdate': '2023-03-31T16:04:42+02:00', 'moddate': '2023-04-17T07:26:06+02:00', 'trapped': '/False', 'source': './../dataset/Structured data-20250319T105519Z-001/Structured data\\\\2022-Absa-Group-limited-Environmental-Social-and-Governance-Data-sheet.pdf', 'total_pages': 26, 'page': 3, 'page_label': '4', 'start_index': 0}\n",
      "Content: Absa Group Limited 2022 E nvironmental, Social and Governance Indicators\n",
      "4\n",
      "Absa social data – Operations\n",
      "Indicator Trend 2022 2021 2020 2019 Targets/Comments\n",
      "Labour\n",
      "Total number of employees  35 451 35 267 36 737 38 472\n",
      "Per employment category:\n",
      "Permanent – male  13 413 13 503 14 032 14 325\n",
      "Permanent – female  20 924 21 061 22 147 23 086\n",
      "Temporary – male  495 302 258 626\n",
      "Temporary – female  619 401 300 435\n",
      "Full time – male  13 901 13 792 14 242 14 853\n",
      "Full time – female  21 519 21 407 22 307 23 276\n",
      "Part time – male  7 13 48 98\n",
      "Part time – female  24 55 140 245\n",
      "Per region\n",
      "South Africa – male  9 239 9 291 9 721 10 103\n",
      "South Africa – female  16 480 16 617 17 439 18 193\n",
      "Absa Regional Operations – male  4 518 4 355 4 547 4 832\n",
      "Absa Regional Operations – female  5 038 4 825 4 996 5 317\n",
      "International – male  151 159 22 16\n",
      "International – female  25 20 12 11\n",
      "By age:\n",
      "<20 male = - 1 1 6\n",
      "<20 female  3 9 3 7\n",
      "20 – 29 male  1 577 1 527 1 860 2 328\n",
      "\n",
      "Source: {'producer': 'Adobe PDF Library 16.0.7', 'creator': 'Adobe InDesign 17.4 (Macintosh)', 'creationdate': '2023-03-31T16:04:42+02:00', 'moddate': '2023-04-17T07:26:06+02:00', 'trapped': '/False', 'source': './../dataset/Structured data-20250319T105519Z-001/Structured data\\\\2022-Absa-Group-limited-Environmental-Social-and-Governance-Data-sheet.pdf', 'total_pages': 26, 'page': 12, 'page_label': '13', 'start_index': 822}\n",
      "Content: Female  50.42  48.53  37.71  42.55  21.91  41.55\n",
      "Male  42.82  48.49  30.83  38.79  24.18  35.60\n",
      "Average training hours by geography\n",
      "2022 2021 2020 2019\n",
      "South Africa  59.78  66.69  42.91  46.06\n",
      "Managing Principal to Principal  100.48  27.39  22.44  31.33\n",
      "Assistant Vice President to Vice President  49.43  51.61  31.81  44.62\n",
      "BA1 to BA4  64.09  80.61  51.99  47.75\n",
      "Non-corporate title  58.72  21.94  6.03  59.35\n",
      "Absa Regional Operations  17.91  24.05  15.39  23.40\n",
      "Managing Principal to Principal  65.50  27.62  23.52  39.94\n",
      "Assistant Vice President to Vice President  19.68  24.40  16.76  32.26\n",
      "Business area 1 to Business area 4  15.56  23.99  14.91  21.49\n",
      "Non-corporate title  12.97  16.99  6.77  15.62\n",
      "Other countries (UK and USA)  14.52  19.89  10.82  14.31\n",
      "Managing Principal to Principal  14.72  13.86  9.66  16.57\n",
      "Assistant Vice President to Vice President  19.68  28.89  7.76  14.12\n",
      "Business area 1 to Business area 4  14.58  69.96  4.83  5.66\n",
      "Non-corporate title  12.85  13.86  3.83  3.83\n",
      "==================================\u001b[1m Ai Message \u001b[0m==================================\n",
      "\n",
      "After searching the Absa document for 2020, there is no explicit value for \"Average age 40-49 years\" presented. The document lists employee numbers by age bands (such as <20, 20–29, etc.), but does not provide their average age for the 40–49 years group in 2020.\n",
      "\n",
      "If you're looking for the number of employees in the 40–49 age range or related demographics, please clarify so I can assist further.\n"
     ]
    }
   ],
   "source": [
    "query = \"what is the value of Average age 40-49 years in Absa document in 2020?\"\n",
    "\n",
    "for event in agent.stream(\n",
    "    {\"messages\": [{\"role\": \"user\", \"content\": query}]},\n",
    "    stream_mode=\"values\",\n",
    "):\n",
    "    event[\"messages\"][-1].pretty_print()"
   ]
  },
  {
   "cell_type": "code",
   "execution_count": 53,
   "id": "e42ced72",
   "metadata": {},
   "outputs": [],
   "source": [
    "response = agent.invoke(\n",
    "    {\"messages\": [{\"role\": \"user\", \"content\": query}]}\n",
    ")"
   ]
  },
  {
   "cell_type": "code",
   "execution_count": 58,
   "id": "41c2e312",
   "metadata": {},
   "outputs": [
    {
     "data": {
      "text/plain": [
       "'After searching the available Absa documents for 2020, I could not find a specific value labeled \"Average age 40-49 years\" for that year. The document provides employee numbers by age group and other metrics like average training hours, but it does not list the average age of employees in the 40-49 year bracket.\\n\\nIf you meant the number of employees in the 40-49 years age group, or need statistics related to that segment, please clarify, and I can assist further. Otherwise, as of now, the specific value for \"Average age 40-49 years\" in Absa\\'s 2020 document is not available.'"
      ]
     },
     "execution_count": 58,
     "metadata": {},
     "output_type": "execute_result"
    }
   ],
   "source": [
    "response['messages'][-1].content"
   ]
  }
 ],
 "metadata": {
  "kernelspec": {
   "display_name": "venv",
   "language": "python",
   "name": "python3"
  },
  "language_info": {
   "codemirror_mode": {
    "name": "ipython",
    "version": 3
   },
   "file_extension": ".py",
   "mimetype": "text/x-python",
   "name": "python",
   "nbconvert_exporter": "python",
   "pygments_lexer": "ipython3",
   "version": "3.13.2"
  }
 },
 "nbformat": 4,
 "nbformat_minor": 5
}
